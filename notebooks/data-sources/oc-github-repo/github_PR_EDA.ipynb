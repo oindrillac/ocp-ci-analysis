{
 "cells": [
  {
   "cell_type": "markdown",
   "id": "6ef4ad59",
   "metadata": {},
   "source": [
    "# GitHub Data for OpenShift Origins\n",
    "\n",
    "In this notebook we will quickly walk through how to access and start analyzing the PR data for the OpenShift origins repository. The ultimate hope for this work is that we will be able to connect the Github data (code changes) directly with the Bugs, Telemetry, TestGrid and Prow datasets in order to develop a complete picture of the OpenShift CI process.   "
   ]
  },
  {
   "cell_type": "markdown",
   "id": "2331c419",
   "metadata": {},
   "source": [
    "## Data Collection:\n",
    "\n",
    "The Thoth team already developed a tool for collecting data and perfoming analysis on GitHub repositoreis, [MI-Scheduler](https://github.com/thoth-station/mi-scheduler). So, we will not be accessing the data directly from GitHub, but from ceph storage after requesting that the OpenShift/Origin repo be included in the MI-Scheduler tool (see [issue](https://github.com/thoth-station/mi-scheduler/issues/130) for details).    "
   ]
  },
  {
   "cell_type": "code",
   "execution_count": 17,
   "id": "64b8b432",
   "metadata": {},
   "outputs": [],
   "source": [
    "import os\n",
    "import pandas as pd\n",
    "import boto3\n",
    "import json\n",
    "import gzip\n",
    "import datetime\n",
    "import matplotlib.pyplot as plt\n",
    "import seaborn as sns\n",
    "from dotenv import load_dotenv, find_dotenv\n",
    "\n",
    "load_dotenv(find_dotenv())\n",
    "sns.set(rc={\"figure.figsize\": (20, 10)})"
   ]
  },
  {
   "cell_type": "code",
   "execution_count": 3,
   "id": "fc68196f",
   "metadata": {},
   "outputs": [],
   "source": [
    "## CEPH Bucket variables\n",
    "## Create a .env file on your local with the correct configs,\n",
    "s3_endpoint_url = os.getenv(\"S3_ENDPOINT\")\n",
    "s3_access_key = os.getenv(\"S3_ACCESS_KEY\")\n",
    "s3_secret_key = os.getenv(\"S3_SECRET_KEY\")\n",
    "s3_bucket = os.getenv(\"S3_BUCKET\")\n",
    "s3_path = os.getenv(\"S3_PROJECT_KEY\", \"metrics\")\n",
    "s3_input_data_path = \"raw_data\"\n",
    "REMOTE = os.getenv(\"REMOTE\")"
   ]
  },
  {
   "cell_type": "code",
   "execution_count": 4,
   "id": "1e1ac9aa",
   "metadata": {},
   "outputs": [
    {
     "name": "stdout",
     "output_type": "stream",
     "text": [
      "getting dataset from local\n"
     ]
    }
   ],
   "source": [
    "data_path = \"../../../data/raw/GitHub/PullRequest.json.gz\"\n",
    "\n",
    "if REMOTE:\n",
    "    print(\"getting dataset from ceph\")\n",
    "    s3 = boto3.resource(\n",
    "        \"s3\",\n",
    "        endpoint_url=s3_endpoint_url,\n",
    "        aws_access_key_id=s3_access_key,\n",
    "        aws_secret_access_key=s3_secret_key,\n",
    "    )\n",
    "    content = s3.Object(s3_bucket, \"thoth/mi/openshift/origin/PullRequest.json\")\n",
    "    file = content.get()[\"Body\"].read().decode(\"utf-8\")\n",
    "    prs = json.loads(file)\n",
    "\n",
    "    with gzip.open(data_path, \"wb\") as out_file:\n",
    "        out_file.write(json.dumps(prs).encode(\"utf-8\"))\n",
    "\n",
    "else:\n",
    "    print(\"getting dataset from local\")\n",
    "    with gzip.open(data_path, \"r\") as f:\n",
    "        prs = json.loads(f.read().decode(\"utf-8\"))\n",
    "\n",
    "\n",
    "pr_df = pd.DataFrame(prs).T"
   ]
  },
  {
   "cell_type": "code",
   "execution_count": 5,
   "id": "494c241d",
   "metadata": {},
   "outputs": [
    {
     "data": {
      "text/html": [
       "<div>\n",
       "<style scoped>\n",
       "    .dataframe tbody tr th:only-of-type {\n",
       "        vertical-align: middle;\n",
       "    }\n",
       "\n",
       "    .dataframe tbody tr th {\n",
       "        vertical-align: top;\n",
       "    }\n",
       "\n",
       "    .dataframe thead th {\n",
       "        text-align: right;\n",
       "    }\n",
       "</style>\n",
       "<table border=\"1\" class=\"dataframe\">\n",
       "  <thead>\n",
       "    <tr style=\"text-align: right;\">\n",
       "      <th></th>\n",
       "      <th>title</th>\n",
       "      <th>body</th>\n",
       "      <th>size</th>\n",
       "      <th>created_by</th>\n",
       "      <th>created_at</th>\n",
       "      <th>closed_at</th>\n",
       "      <th>closed_by</th>\n",
       "      <th>merged_at</th>\n",
       "      <th>commits_number</th>\n",
       "      <th>changed_files_number</th>\n",
       "      <th>interactions</th>\n",
       "      <th>reviews</th>\n",
       "      <th>labels</th>\n",
       "      <th>commits</th>\n",
       "      <th>changed_files</th>\n",
       "    </tr>\n",
       "  </thead>\n",
       "  <tbody>\n",
       "    <tr>\n",
       "      <th>26100</th>\n",
       "      <td>bug 1949306: add e2e test to block usage of re...</td>\n",
       "      <td>Right now this is set to flake in CI and provi...</td>\n",
       "      <td>XXL</td>\n",
       "      <td>deads2k</td>\n",
       "      <td>1619104429</td>\n",
       "      <td>1619253940</td>\n",
       "      <td>openshift-merge-robot</td>\n",
       "      <td>1619253940</td>\n",
       "      <td>2</td>\n",
       "      <td>135</td>\n",
       "      <td>{'deads2k': 1, 'openshift-ci-robot': 307, 'stt...</td>\n",
       "      <td>{}</td>\n",
       "      <td>[approved, bugzilla/severity-urgent, bugzilla/...</td>\n",
       "      <td>[13b0e99d5f35d85998af9f07eb0c5b7d6fcc0dd0, 0c3...</td>\n",
       "      <td>[go.mod, go.sum, test/extended/apiserver/api_r...</td>\n",
       "    </tr>\n",
       "    <tr>\n",
       "      <th>26099</th>\n",
       "      <td>bug 1951705: allow HighOverallControlPlaneCPU ...</td>\n",
       "      <td>adding the alert in https://github.com/openshi...</td>\n",
       "      <td>XS</td>\n",
       "      <td>deads2k</td>\n",
       "      <td>1619091511</td>\n",
       "      <td>1619113470</td>\n",
       "      <td>openshift-merge-robot</td>\n",
       "      <td>1619113470</td>\n",
       "      <td>1</td>\n",
       "      <td>1</td>\n",
       "      <td>{'openshift-ci-robot': 508, 'deads2k': 43, 'op...</td>\n",
       "      <td>{}</td>\n",
       "      <td>[approved, bugzilla/severity-high, bugzilla/va...</td>\n",
       "      <td>[7bc10c83eea29010f3b735c41847d43a992f606c]</td>\n",
       "      <td>[test/extended/prometheus/prometheus.go]</td>\n",
       "    </tr>\n",
       "  </tbody>\n",
       "</table>\n",
       "</div>"
      ],
      "text/plain": [
       "                                                   title  \\\n",
       "26100  bug 1949306: add e2e test to block usage of re...   \n",
       "26099  bug 1951705: allow HighOverallControlPlaneCPU ...   \n",
       "\n",
       "                                                    body size created_by  \\\n",
       "26100  Right now this is set to flake in CI and provi...  XXL    deads2k   \n",
       "26099  adding the alert in https://github.com/openshi...   XS    deads2k   \n",
       "\n",
       "       created_at   closed_at              closed_by   merged_at  \\\n",
       "26100  1619104429  1619253940  openshift-merge-robot  1619253940   \n",
       "26099  1619091511  1619113470  openshift-merge-robot  1619113470   \n",
       "\n",
       "      commits_number changed_files_number  \\\n",
       "26100              2                  135   \n",
       "26099              1                    1   \n",
       "\n",
       "                                            interactions reviews  \\\n",
       "26100  {'deads2k': 1, 'openshift-ci-robot': 307, 'stt...      {}   \n",
       "26099  {'openshift-ci-robot': 508, 'deads2k': 43, 'op...      {}   \n",
       "\n",
       "                                                  labels  \\\n",
       "26100  [approved, bugzilla/severity-urgent, bugzilla/...   \n",
       "26099  [approved, bugzilla/severity-high, bugzilla/va...   \n",
       "\n",
       "                                                 commits  \\\n",
       "26100  [13b0e99d5f35d85998af9f07eb0c5b7d6fcc0dd0, 0c3...   \n",
       "26099         [7bc10c83eea29010f3b735c41847d43a992f606c]   \n",
       "\n",
       "                                           changed_files  \n",
       "26100  [go.mod, go.sum, test/extended/apiserver/api_r...  \n",
       "26099           [test/extended/prometheus/prometheus.go]  "
      ]
     },
     "execution_count": 5,
     "metadata": {},
     "output_type": "execute_result"
    }
   ],
   "source": [
    "pr_df.head(2)"
   ]
  },
  {
   "cell_type": "markdown",
   "id": "0cf1b7a2",
   "metadata": {},
   "source": [
    "## Inspect the dataset\n",
    "\n",
    "Let's unroll a single row and see what kind of information we have access to. "
   ]
  },
  {
   "cell_type": "code",
   "execution_count": 6,
   "id": "3fe564f7",
   "metadata": {},
   "outputs": [
    {
     "data": {
      "text/plain": [
       "title                                   Bug 1949050: fix images.sh script\n",
       "body                    This is a followup to https://github.com/opens...\n",
       "size                                                                    S\n",
       "created_by                                                        soltysh\n",
       "created_at                                                     1618993979\n",
       "closed_at                                                      1619069721\n",
       "closed_by                                           openshift-merge-robot\n",
       "merged_at                                                      1619069721\n",
       "commits_number                                                          1\n",
       "changed_files_number                                                    2\n",
       "interactions            {'openshift-ci-robot': 279, 'soltysh': 2, 'ope...\n",
       "reviews                 {'641526396': {'author': 'adambkaplan', 'words...\n",
       "labels                  [approved, bugzilla/severity-high, bugzilla/va...\n",
       "commits                        [06830a927241a44ae24e9a4b5b2ac75f666d36bc]\n",
       "changed_files           [test/extended/testdata/bindata.go, test/exten...\n",
       "Name: 26096, dtype: object"
      ]
     },
     "execution_count": 6,
     "metadata": {},
     "output_type": "execute_result"
    }
   ],
   "source": [
    "pr = pr_df.iloc[4]\n",
    "pr"
   ]
  },
  {
   "cell_type": "markdown",
   "id": "898f2f25",
   "metadata": {},
   "source": [
    "</br>\n",
    "\n",
    "#### **Available Fields:**\n",
    "\n",
    "* **title**: text providing a short description of the of the PR.\n",
    "\n",
    "* **body**: text providing additional details regarding the changes. \n",
    "\n",
    "* **size**: categorical label generated by GitHub summerizing the size of the changes made to the code base. \n",
    "\n",
    "* **created/closed/merged_at**: timestamps for when the PR was opened, merged and finally closed. \n",
    "\n",
    "* **created/closed_by**: usernames for contributors who created the PR and closed it. \n",
    "\n",
    "* **commits_number**: integer indicating the number of commits in the PR.\n",
    "\n",
    "* **changed_files_number**: integer indicating the number of files changed.\n",
    "\n",
    "The remaining fields appear to be collections of items, let's unroll each one and see what additional information they provide.\n"
   ]
  },
  {
   "cell_type": "code",
   "execution_count": 7,
   "id": "f04274ee",
   "metadata": {},
   "outputs": [
    {
     "data": {
      "text/plain": [
       "{'openshift-ci-robot': 279,\n",
       " 'soltysh': 2,\n",
       " 'openshift-bot': 180,\n",
       " 'openshift-ci[bot]': 79}"
      ]
     },
     "execution_count": 7,
     "metadata": {},
     "output_type": "execute_result"
    }
   ],
   "source": [
    "pr[\"interactions\"]"
   ]
  },
  {
   "cell_type": "markdown",
   "id": "e102db55",
   "metadata": {},
   "source": [
    "**interactions**: a dictionary with usernames for keys and the number of times they interacted with the PR as the value."
   ]
  },
  {
   "cell_type": "code",
   "execution_count": 8,
   "id": "fb9f301e",
   "metadata": {},
   "outputs": [
    {
     "data": {
      "text/plain": [
       "{'641526396': {'author': 'adambkaplan',\n",
       "  'words_count': 1,\n",
       "  'submitted_at': 1619032331,\n",
       "  'state': 'APPROVED'}}"
      ]
     },
     "execution_count": 8,
     "metadata": {},
     "output_type": "execute_result"
    }
   ],
   "source": [
    "pr[\"reviews\"]"
   ]
  },
  {
   "cell_type": "markdown",
   "id": "fba080f8",
   "metadata": {},
   "source": [
    "**reviews**: a dictionary of reviews that includes an id number key along with fields for author, word_count, submitted timestamp and state of review."
   ]
  },
  {
   "cell_type": "code",
   "execution_count": 9,
   "id": "b51cbb81",
   "metadata": {},
   "outputs": [
    {
     "data": {
      "text/plain": [
       "['approved', 'bugzilla/severity-high', 'bugzilla/valid-bug', 'lgtm']"
      ]
     },
     "execution_count": 9,
     "metadata": {},
     "output_type": "execute_result"
    }
   ],
   "source": [
    "pr[\"labels\"]"
   ]
  },
  {
   "cell_type": "markdown",
   "id": "302dca4d",
   "metadata": {},
   "source": [
    "**labels**: a list of labels tagged to the PR describing some of its attributes"
   ]
  },
  {
   "cell_type": "code",
   "execution_count": 10,
   "id": "f707512b",
   "metadata": {},
   "outputs": [
    {
     "data": {
      "text/plain": [
       "['06830a927241a44ae24e9a4b5b2ac75f666d36bc']"
      ]
     },
     "execution_count": 10,
     "metadata": {},
     "output_type": "execute_result"
    }
   ],
   "source": [
    "pr[\"commits\"]"
   ]
  },
  {
   "cell_type": "markdown",
   "id": "80607f1e",
   "metadata": {},
   "source": [
    "**commits**: a list of commit hashes that point to specific changes made to the repo's history"
   ]
  },
  {
   "cell_type": "code",
   "execution_count": 11,
   "id": "bb992440",
   "metadata": {},
   "outputs": [
    {
     "name": "stdout",
     "output_type": "stream",
     "text": [
      "2\n"
     ]
    },
    {
     "data": {
      "text/plain": [
       "['test/extended/testdata/bindata.go',\n",
       " 'test/extended/testdata/cmd/test/cmd/images.sh']"
      ]
     },
     "execution_count": 11,
     "metadata": {},
     "output_type": "execute_result"
    }
   ],
   "source": [
    "print(len(pr[\"changed_files\"]))\n",
    "pr[\"changed_files\"][0:10]"
   ]
  },
  {
   "cell_type": "markdown",
   "id": "3d3600e5",
   "metadata": {},
   "source": [
    "**changed_files**: a list of the paths and filenames for every file changed by this PR."
   ]
  },
  {
   "cell_type": "markdown",
   "id": "0685d80d",
   "metadata": {},
   "source": [
    "We now know what we have access to in this dataset. It is a collection of numerical, categorical and textual features used to describe a PR. This gives us a lot of potential avenues to explore from an EDA and Data Science perspective. But is also creates an additional challenge insofar as we'll need to do a bit of feature engineering to get this data into format that is ready to be ingested by any ML models. "
   ]
  },
  {
   "cell_type": "markdown",
   "id": "c121a19b",
   "metadata": {},
   "source": [
    "## Example feature engineering\n",
    "\n",
    "In the next section we will do some basic feature engineering and correlation analyis on our dataset to see if anything interesting jumps out at us. \n",
    "\n",
    "\n",
    "**Text Fields**\n",
    "\n",
    "There is a whole sub-field (NLP) dedicated to analyzing text and encoding it into numerical representations. However, I want to do something simple here, so I will derive a feature called `body_size` which will simply be the number of words in the body of the PR. I will then use this numerical value to describe the body of the PR.  \n",
    "\n",
    "**Timestamps**\n",
    "\n",
    "When something was created or closed is somewhat arbitary outside of a timeseries analysis. Let's try and convert these values into something more comparable. I will derive a new feature called `time_to_merge` which will be the difference between the created_at and mereged_at fields. \n",
    "\n",
    "**New DataFrame**\n",
    "\n",
    "With my two new derived metrics, I will create a dataframe with a subset of only numerical features that I can compare directly and start to do some lite analysis on."
   ]
  },
  {
   "cell_type": "code",
   "execution_count": 12,
   "id": "2537f8df",
   "metadata": {},
   "outputs": [],
   "source": [
    "# derive body_size\n",
    "pr_df[\"body_size\"] = pr_df[\"body\"].fillna(\"\").apply(lambda x: len(x.split()))\n",
    "# derive time_to_merege\n",
    "pr_df[\"time_to_merge\"] = pr_df[\"merged_at\"] - pr_df[\"created_at\"]\n",
    "pr_df[\"time_to_merge\"] = pr_df[\"time_to_merge\"].fillna(0).astype(\"int\")\n",
    "# convert changed_files_number to int\n",
    "pr_df[\"changed_files_number\"] = pr_df[\"changed_files_number\"].astype(\"int\")\n",
    "\n",
    "# subset DataFrame\n",
    "feature_df = pr_df[[\"body_size\", \"time_to_merge\", \"changed_files_number\"]]"
   ]
  },
  {
   "cell_type": "code",
   "execution_count": 13,
   "id": "ec91c06f",
   "metadata": {},
   "outputs": [
    {
     "data": {
      "text/html": [
       "<div>\n",
       "<style scoped>\n",
       "    .dataframe tbody tr th:only-of-type {\n",
       "        vertical-align: middle;\n",
       "    }\n",
       "\n",
       "    .dataframe tbody tr th {\n",
       "        vertical-align: top;\n",
       "    }\n",
       "\n",
       "    .dataframe thead th {\n",
       "        text-align: right;\n",
       "    }\n",
       "</style>\n",
       "<table border=\"1\" class=\"dataframe\">\n",
       "  <thead>\n",
       "    <tr style=\"text-align: right;\">\n",
       "      <th></th>\n",
       "      <th>body_size</th>\n",
       "      <th>time_to_merge</th>\n",
       "      <th>changed_files_number</th>\n",
       "    </tr>\n",
       "  </thead>\n",
       "  <tbody>\n",
       "    <tr>\n",
       "      <th>26100</th>\n",
       "      <td>37</td>\n",
       "      <td>149511</td>\n",
       "      <td>135</td>\n",
       "    </tr>\n",
       "    <tr>\n",
       "      <th>26099</th>\n",
       "      <td>30</td>\n",
       "      <td>21959</td>\n",
       "      <td>1</td>\n",
       "    </tr>\n",
       "  </tbody>\n",
       "</table>\n",
       "</div>"
      ],
      "text/plain": [
       "       body_size  time_to_merge  changed_files_number\n",
       "26100         37         149511                   135\n",
       "26099         30          21959                     1"
      ]
     },
     "execution_count": 13,
     "metadata": {},
     "output_type": "execute_result"
    }
   ],
   "source": [
    "feature_df.head(2)"
   ]
  },
  {
   "cell_type": "code",
   "execution_count": 14,
   "id": "ca45c042",
   "metadata": {},
   "outputs": [
    {
     "data": {
      "text/html": [
       "<div>\n",
       "<style scoped>\n",
       "    .dataframe tbody tr th:only-of-type {\n",
       "        vertical-align: middle;\n",
       "    }\n",
       "\n",
       "    .dataframe tbody tr th {\n",
       "        vertical-align: top;\n",
       "    }\n",
       "\n",
       "    .dataframe thead th {\n",
       "        text-align: right;\n",
       "    }\n",
       "</style>\n",
       "<table border=\"1\" class=\"dataframe\">\n",
       "  <thead>\n",
       "    <tr style=\"text-align: right;\">\n",
       "      <th></th>\n",
       "      <th>body_size</th>\n",
       "      <th>time_to_merge</th>\n",
       "      <th>changed_files_number</th>\n",
       "    </tr>\n",
       "  </thead>\n",
       "  <tbody>\n",
       "    <tr>\n",
       "      <th>count</th>\n",
       "      <td>25.000000</td>\n",
       "      <td>25.000000</td>\n",
       "      <td>25.000000</td>\n",
       "    </tr>\n",
       "    <tr>\n",
       "      <th>mean</th>\n",
       "      <td>31.480000</td>\n",
       "      <td>120473.920000</td>\n",
       "      <td>13.920000</td>\n",
       "    </tr>\n",
       "    <tr>\n",
       "      <th>std</th>\n",
       "      <td>49.162248</td>\n",
       "      <td>144609.019033</td>\n",
       "      <td>34.437044</td>\n",
       "    </tr>\n",
       "    <tr>\n",
       "      <th>min</th>\n",
       "      <td>2.000000</td>\n",
       "      <td>0.000000</td>\n",
       "      <td>1.000000</td>\n",
       "    </tr>\n",
       "    <tr>\n",
       "      <th>25%</th>\n",
       "      <td>8.000000</td>\n",
       "      <td>0.000000</td>\n",
       "      <td>1.000000</td>\n",
       "    </tr>\n",
       "    <tr>\n",
       "      <th>50%</th>\n",
       "      <td>12.000000</td>\n",
       "      <td>58369.000000</td>\n",
       "      <td>2.000000</td>\n",
       "    </tr>\n",
       "    <tr>\n",
       "      <th>75%</th>\n",
       "      <td>33.000000</td>\n",
       "      <td>167741.000000</td>\n",
       "      <td>5.000000</td>\n",
       "    </tr>\n",
       "    <tr>\n",
       "      <th>max</th>\n",
       "      <td>234.000000</td>\n",
       "      <td>508824.000000</td>\n",
       "      <td>135.000000</td>\n",
       "    </tr>\n",
       "  </tbody>\n",
       "</table>\n",
       "</div>"
      ],
      "text/plain": [
       "        body_size  time_to_merge  changed_files_number\n",
       "count   25.000000      25.000000             25.000000\n",
       "mean    31.480000  120473.920000             13.920000\n",
       "std     49.162248  144609.019033             34.437044\n",
       "min      2.000000       0.000000              1.000000\n",
       "25%      8.000000       0.000000              1.000000\n",
       "50%     12.000000   58369.000000              2.000000\n",
       "75%     33.000000  167741.000000              5.000000\n",
       "max    234.000000  508824.000000            135.000000"
      ]
     },
     "execution_count": 14,
     "metadata": {},
     "output_type": "execute_result"
    }
   ],
   "source": [
    "feature_df.describe()"
   ]
  },
  {
   "cell_type": "markdown",
   "id": "103c2557-6206-4207-973d-36765157d77d",
   "metadata": {},
   "source": [
    "**Created At**\n",
    "\n",
    "This column cann give us information on when the PR was created. Using the `created_at` field, we can derive other features like `time_of_day`, `day_of_week`, `day_of_month`, `month_in_year` each of which can be categorical features that can be useful to our analysis."
   ]
  },
  {
   "cell_type": "code",
   "execution_count": 36,
   "id": "ccd752d2-7f2b-4dbe-bdd2-24badd735d45",
   "metadata": {},
   "outputs": [],
   "source": [
    "# convert to datetime object\n",
    "pr_df[\"created_at_datetime\"] = (\n",
    "    pr_df[\"created_at\"].fillna(\"\").apply(lambda x: datetime.datetime.fromtimestamp(x))\n",
    ")\n",
    "# get day as categorical variable\n",
    "pr_df[\"created_at_day\"] = pr_df[\"created_at_datetime\"].apply(lambda x: x.day)\n",
    "# get month as categorical variable\n",
    "pr_df[\"created_at_month\"] = pr_df[\"created_at_datetime\"].apply(lambda x: x.month)\n",
    "# get weekday as categorical variable\n",
    "pr_df[\"created_at_weekday\"] = pr_df[\"created_at_datetime\"].apply(lambda x: x.weekday())\n",
    "# get hour of day as categorical variable\n",
    "pr_df[\"created_at_hour\"] = pr_df[\"created_at_datetime\"].apply(lambda x: x.hour)"
   ]
  },
  {
   "cell_type": "code",
   "execution_count": 37,
   "id": "c4da975d-b207-475a-928c-24eeaa878716",
   "metadata": {},
   "outputs": [
    {
     "data": {
      "text/html": [
       "<div>\n",
       "<style scoped>\n",
       "    .dataframe tbody tr th:only-of-type {\n",
       "        vertical-align: middle;\n",
       "    }\n",
       "\n",
       "    .dataframe tbody tr th {\n",
       "        vertical-align: top;\n",
       "    }\n",
       "\n",
       "    .dataframe thead th {\n",
       "        text-align: right;\n",
       "    }\n",
       "</style>\n",
       "<table border=\"1\" class=\"dataframe\">\n",
       "  <thead>\n",
       "    <tr style=\"text-align: right;\">\n",
       "      <th></th>\n",
       "      <th>title</th>\n",
       "      <th>body</th>\n",
       "      <th>size</th>\n",
       "      <th>created_by</th>\n",
       "      <th>created_at</th>\n",
       "      <th>closed_at</th>\n",
       "      <th>closed_by</th>\n",
       "      <th>merged_at</th>\n",
       "      <th>commits_number</th>\n",
       "      <th>changed_files_number</th>\n",
       "      <th>...</th>\n",
       "      <th>labels</th>\n",
       "      <th>commits</th>\n",
       "      <th>changed_files</th>\n",
       "      <th>body_size</th>\n",
       "      <th>time_to_merge</th>\n",
       "      <th>created_at_datetime</th>\n",
       "      <th>created_at_day</th>\n",
       "      <th>created_at_month</th>\n",
       "      <th>created_at_weekday</th>\n",
       "      <th>created_at_hour</th>\n",
       "    </tr>\n",
       "  </thead>\n",
       "  <tbody>\n",
       "    <tr>\n",
       "      <th>26100</th>\n",
       "      <td>bug 1949306: add e2e test to block usage of re...</td>\n",
       "      <td>Right now this is set to flake in CI and provi...</td>\n",
       "      <td>XXL</td>\n",
       "      <td>deads2k</td>\n",
       "      <td>1619104429</td>\n",
       "      <td>1619253940</td>\n",
       "      <td>openshift-merge-robot</td>\n",
       "      <td>1619253940</td>\n",
       "      <td>2</td>\n",
       "      <td>135</td>\n",
       "      <td>...</td>\n",
       "      <td>[approved, bugzilla/severity-urgent, bugzilla/...</td>\n",
       "      <td>[13b0e99d5f35d85998af9f07eb0c5b7d6fcc0dd0, 0c3...</td>\n",
       "      <td>[go.mod, go.sum, test/extended/apiserver/api_r...</td>\n",
       "      <td>37</td>\n",
       "      <td>149511</td>\n",
       "      <td>2021-04-22 15:13:49</td>\n",
       "      <td>22</td>\n",
       "      <td>4</td>\n",
       "      <td>3</td>\n",
       "      <td>15</td>\n",
       "    </tr>\n",
       "    <tr>\n",
       "      <th>26099</th>\n",
       "      <td>bug 1951705: allow HighOverallControlPlaneCPU ...</td>\n",
       "      <td>adding the alert in https://github.com/openshi...</td>\n",
       "      <td>XS</td>\n",
       "      <td>deads2k</td>\n",
       "      <td>1619091511</td>\n",
       "      <td>1619113470</td>\n",
       "      <td>openshift-merge-robot</td>\n",
       "      <td>1619113470</td>\n",
       "      <td>1</td>\n",
       "      <td>1</td>\n",
       "      <td>...</td>\n",
       "      <td>[approved, bugzilla/severity-high, bugzilla/va...</td>\n",
       "      <td>[7bc10c83eea29010f3b735c41847d43a992f606c]</td>\n",
       "      <td>[test/extended/prometheus/prometheus.go]</td>\n",
       "      <td>30</td>\n",
       "      <td>21959</td>\n",
       "      <td>2021-04-22 11:38:31</td>\n",
       "      <td>22</td>\n",
       "      <td>4</td>\n",
       "      <td>3</td>\n",
       "      <td>11</td>\n",
       "    </tr>\n",
       "    <tr>\n",
       "      <th>26098</th>\n",
       "      <td>refactor TestMultipleImageChangeBuildTriggers,...</td>\n",
       "      <td>So reworking this test was motivated by 2 thin...</td>\n",
       "      <td>XXL</td>\n",
       "      <td>gabemontero</td>\n",
       "      <td>1619037132</td>\n",
       "      <td>None</td>\n",
       "      <td>gabemontero</td>\n",
       "      <td>None</td>\n",
       "      <td>2</td>\n",
       "      <td>118</td>\n",
       "      <td>...</td>\n",
       "      <td>[do-not-merge/hold, vendor-update]</td>\n",
       "      <td>[2d329e88159f7af1594054ce467cfdb3c320b612, e7e...</td>\n",
       "      <td>[go.mod, go.sum, test/extended/images/imagecha...</td>\n",
       "      <td>234</td>\n",
       "      <td>0</td>\n",
       "      <td>2021-04-21 20:32:12</td>\n",
       "      <td>21</td>\n",
       "      <td>4</td>\n",
       "      <td>2</td>\n",
       "      <td>20</td>\n",
       "    </tr>\n",
       "    <tr>\n",
       "      <th>26097</th>\n",
       "      <td>WIP: monitor: Move \"crashlooping pods\" test to...</td>\n",
       "      <td>Crashlooping, long pulls, and other container ...</td>\n",
       "      <td>L</td>\n",
       "      <td>smarterclayton</td>\n",
       "      <td>1619035732</td>\n",
       "      <td>None</td>\n",
       "      <td>None</td>\n",
       "      <td>None</td>\n",
       "      <td>1</td>\n",
       "      <td>5</td>\n",
       "      <td>...</td>\n",
       "      <td>[approved, do-not-merge/work-in-progress]</td>\n",
       "      <td>[95756458436b0e79a7ea779c6b0f6de2e4ee5a1f]</td>\n",
       "      <td>[pkg/monitor/pod.go, pkg/synthetictests/event_...</td>\n",
       "      <td>105</td>\n",
       "      <td>0</td>\n",
       "      <td>2021-04-21 20:08:52</td>\n",
       "      <td>21</td>\n",
       "      <td>4</td>\n",
       "      <td>2</td>\n",
       "      <td>20</td>\n",
       "    </tr>\n",
       "    <tr>\n",
       "      <th>26096</th>\n",
       "      <td>Bug 1949050: fix images.sh script</td>\n",
       "      <td>This is a followup to https://github.com/opens...</td>\n",
       "      <td>S</td>\n",
       "      <td>soltysh</td>\n",
       "      <td>1618993979</td>\n",
       "      <td>1619069721</td>\n",
       "      <td>openshift-merge-robot</td>\n",
       "      <td>1619069721</td>\n",
       "      <td>1</td>\n",
       "      <td>2</td>\n",
       "      <td>...</td>\n",
       "      <td>[approved, bugzilla/severity-high, bugzilla/va...</td>\n",
       "      <td>[06830a927241a44ae24e9a4b5b2ac75f666d36bc]</td>\n",
       "      <td>[test/extended/testdata/bindata.go, test/exten...</td>\n",
       "      <td>12</td>\n",
       "      <td>75742</td>\n",
       "      <td>2021-04-21 08:32:59</td>\n",
       "      <td>21</td>\n",
       "      <td>4</td>\n",
       "      <td>2</td>\n",
       "      <td>8</td>\n",
       "    </tr>\n",
       "  </tbody>\n",
       "</table>\n",
       "<p>5 rows × 22 columns</p>\n",
       "</div>"
      ],
      "text/plain": [
       "                                                   title  \\\n",
       "26100  bug 1949306: add e2e test to block usage of re...   \n",
       "26099  bug 1951705: allow HighOverallControlPlaneCPU ...   \n",
       "26098  refactor TestMultipleImageChangeBuildTriggers,...   \n",
       "26097  WIP: monitor: Move \"crashlooping pods\" test to...   \n",
       "26096                  Bug 1949050: fix images.sh script   \n",
       "\n",
       "                                                    body size      created_by  \\\n",
       "26100  Right now this is set to flake in CI and provi...  XXL         deads2k   \n",
       "26099  adding the alert in https://github.com/openshi...   XS         deads2k   \n",
       "26098  So reworking this test was motivated by 2 thin...  XXL     gabemontero   \n",
       "26097  Crashlooping, long pulls, and other container ...    L  smarterclayton   \n",
       "26096  This is a followup to https://github.com/opens...    S         soltysh   \n",
       "\n",
       "       created_at   closed_at              closed_by   merged_at  \\\n",
       "26100  1619104429  1619253940  openshift-merge-robot  1619253940   \n",
       "26099  1619091511  1619113470  openshift-merge-robot  1619113470   \n",
       "26098  1619037132        None            gabemontero        None   \n",
       "26097  1619035732        None                   None        None   \n",
       "26096  1618993979  1619069721  openshift-merge-robot  1619069721   \n",
       "\n",
       "      commits_number  changed_files_number  ...  \\\n",
       "26100              2                   135  ...   \n",
       "26099              1                     1  ...   \n",
       "26098              2                   118  ...   \n",
       "26097              1                     5  ...   \n",
       "26096              1                     2  ...   \n",
       "\n",
       "                                                  labels  \\\n",
       "26100  [approved, bugzilla/severity-urgent, bugzilla/...   \n",
       "26099  [approved, bugzilla/severity-high, bugzilla/va...   \n",
       "26098                 [do-not-merge/hold, vendor-update]   \n",
       "26097          [approved, do-not-merge/work-in-progress]   \n",
       "26096  [approved, bugzilla/severity-high, bugzilla/va...   \n",
       "\n",
       "                                                 commits  \\\n",
       "26100  [13b0e99d5f35d85998af9f07eb0c5b7d6fcc0dd0, 0c3...   \n",
       "26099         [7bc10c83eea29010f3b735c41847d43a992f606c]   \n",
       "26098  [2d329e88159f7af1594054ce467cfdb3c320b612, e7e...   \n",
       "26097         [95756458436b0e79a7ea779c6b0f6de2e4ee5a1f]   \n",
       "26096         [06830a927241a44ae24e9a4b5b2ac75f666d36bc]   \n",
       "\n",
       "                                           changed_files body_size  \\\n",
       "26100  [go.mod, go.sum, test/extended/apiserver/api_r...        37   \n",
       "26099           [test/extended/prometheus/prometheus.go]        30   \n",
       "26098  [go.mod, go.sum, test/extended/images/imagecha...       234   \n",
       "26097  [pkg/monitor/pod.go, pkg/synthetictests/event_...       105   \n",
       "26096  [test/extended/testdata/bindata.go, test/exten...        12   \n",
       "\n",
       "      time_to_merge  created_at_datetime  created_at_day created_at_month  \\\n",
       "26100        149511  2021-04-22 15:13:49              22                4   \n",
       "26099         21959  2021-04-22 11:38:31              22                4   \n",
       "26098             0  2021-04-21 20:32:12              21                4   \n",
       "26097             0  2021-04-21 20:08:52              21                4   \n",
       "26096         75742  2021-04-21 08:32:59              21                4   \n",
       "\n",
       "       created_at_weekday  created_at_hour  \n",
       "26100                   3               15  \n",
       "26099                   3               11  \n",
       "26098                   2               20  \n",
       "26097                   2               20  \n",
       "26096                   2                8  \n",
       "\n",
       "[5 rows x 22 columns]"
      ]
     },
     "execution_count": 37,
     "metadata": {},
     "output_type": "execute_result"
    }
   ],
   "source": [
    "pr_df.head()"
   ]
  },
  {
   "cell_type": "markdown",
   "id": "5ae600c9-fee9-466c-870f-0f3f401bfe4a",
   "metadata": {},
   "source": [
    "**Commits Number**  \n",
    "Commits Number gives the number of commits created within the PR. This could be a numerical feature for our model."
   ]
  },
  {
   "cell_type": "code",
   "execution_count": 39,
   "id": "0cc202fa-5c09-4bf9-a7e3-879c04fd86dc",
   "metadata": {},
   "outputs": [
    {
     "data": {
      "text/plain": [
       "1    19\n",
       "2     6\n",
       "Name: commits_number, dtype: int64"
      ]
     },
     "execution_count": 39,
     "metadata": {},
     "output_type": "execute_result"
    }
   ],
   "source": [
    "pr_df.commits_number.value_counts()"
   ]
  },
  {
   "cell_type": "markdown",
   "id": "012a3295-2e8e-487c-9e1e-c0cf725c7cdd",
   "metadata": {},
   "source": [
    "As we see above, in this dataset, there is not much variability in the commits number. They hold values like 1, 2. So this may not give us a lot of information. We can rather look at number of changed files for more informationn into the size of the PR."
   ]
  },
  {
   "cell_type": "markdown",
   "id": "0bab2969-4f95-48e3-9d46-be037358469b",
   "metadata": {},
   "source": [
    "**Changed Files Number**  \n",
    "Changed files is a numberical variable which captures the numer of files that were modified in the PR."
   ]
  },
  {
   "cell_type": "code",
   "execution_count": 41,
   "id": "48bbd3e3-ca23-4e70-85ce-65f2f0b08491",
   "metadata": {},
   "outputs": [
    {
     "data": {
      "text/plain": [
       "1      11\n",
       "2       3\n",
       "3       3\n",
       "4       1\n",
       "5       1\n",
       "135     1\n",
       "10      1\n",
       "11      1\n",
       "13      1\n",
       "118     1\n",
       "26      1\n",
       "Name: changed_files_number, dtype: int64"
      ]
     },
     "execution_count": 41,
     "metadata": {},
     "output_type": "execute_result"
    }
   ],
   "source": [
    "pr_df.changed_files_number.value_counts()"
   ]
  },
  {
   "cell_type": "markdown",
   "id": "1ca86e31",
   "metadata": {},
   "source": [
    "Let's look at some pair-wise scatter plots of our data to see if there are any obvious correlations between our features. "
   ]
  },
  {
   "cell_type": "code",
   "execution_count": 14,
   "id": "fdcd43ab",
   "metadata": {},
   "outputs": [
    {
     "data": {
      "image/png": "[encoded data removed]",
      "text/plain": [
       "<Figure size 1440x720 with 3 Axes>"
      ]
     },
     "metadata": {},
     "output_type": "display_data"
    }
   ],
   "source": [
    "fig, (ax1, ax2, ax3) = plt.subplots(1, 3)\n",
    "ax1.scatter(feature_df[\"time_to_merge\"], feature_df[\"body_size\"])\n",
    "ax1.set(xlabel=\"time to merge (seconds)\", ylabel=\"body_size\")\n",
    "ax2.scatter(feature_df[\"time_to_merge\"], feature_df[\"changed_files_number\"])\n",
    "ax2.set(xlabel=\"time to merge (seconds)\", ylabel=\"changed_file_number\")\n",
    "ax3.scatter(feature_df[\"body_size\"], feature_df[\"changed_files_number\"])\n",
    "ax3.set(xlabel=\"body size\", ylabel=\"changed_file_number\")\n",
    "fig.suptitle(\"Pair-Wise Scatter Plots\")\n",
    "plt.show()"
   ]
  },
  {
   "cell_type": "markdown",
   "id": "57190d70",
   "metadata": {},
   "source": [
    "Its tough to see any meaningfull correlations here. Despite this \"L\" shaped scatter plot the vast majority of the points are centered around (0,0) in all 3 cases. Let's calculate the correlation value for each pair of variables to see some actaul numbers."
   ]
  },
  {
   "cell_type": "code",
   "execution_count": 15,
   "id": "a9257520",
   "metadata": {},
   "outputs": [
    {
     "data": {
      "text/html": [
       "<div>\n",
       "<style scoped>\n",
       "    .dataframe tbody tr th:only-of-type {\n",
       "        vertical-align: middle;\n",
       "    }\n",
       "\n",
       "    .dataframe tbody tr th {\n",
       "        vertical-align: top;\n",
       "    }\n",
       "\n",
       "    .dataframe thead th {\n",
       "        text-align: right;\n",
       "    }\n",
       "</style>\n",
       "<table border=\"1\" class=\"dataframe\">\n",
       "  <thead>\n",
       "    <tr style=\"text-align: right;\">\n",
       "      <th></th>\n",
       "      <th>body_size</th>\n",
       "      <th>time_to_merge</th>\n",
       "      <th>changed_files_number</th>\n",
       "    </tr>\n",
       "  </thead>\n",
       "  <tbody>\n",
       "    <tr>\n",
       "      <th>body_size</th>\n",
       "      <td>1.000000</td>\n",
       "      <td>0.076079</td>\n",
       "      <td>0.028810</td>\n",
       "    </tr>\n",
       "    <tr>\n",
       "      <th>time_to_merge</th>\n",
       "      <td>0.076079</td>\n",
       "      <td>1.000000</td>\n",
       "      <td>-0.005893</td>\n",
       "    </tr>\n",
       "    <tr>\n",
       "      <th>changed_files_number</th>\n",
       "      <td>0.028810</td>\n",
       "      <td>-0.005893</td>\n",
       "      <td>1.000000</td>\n",
       "    </tr>\n",
       "  </tbody>\n",
       "</table>\n",
       "</div>"
      ],
      "text/plain": [
       "                      body_size  time_to_merge  changed_files_number\n",
       "body_size              1.000000       0.076079              0.028810\n",
       "time_to_merge          0.076079       1.000000             -0.005893\n",
       "changed_files_number   0.028810      -0.005893              1.000000"
      ]
     },
     "execution_count": 15,
     "metadata": {},
     "output_type": "execute_result"
    }
   ],
   "source": [
    "feature_df.corr()"
   ]
  },
  {
   "cell_type": "markdown",
   "id": "6a534141",
   "metadata": {},
   "source": [
    "Here we can see that body_size is _most_ correlated with time_to_merge, but 0.07 is a rather weak correlation value. This is good if we are going to use these as input features to a model, but not so good if we wanted to try and predict one value from the other two. Looks like we will need to go back and engineer some more features."
   ]
  },
  {
   "cell_type": "markdown",
   "id": "b48ea87a",
   "metadata": {},
   "source": [
    "### Conlusion\n",
    "\n",
    "This notebook walked through how to access the relevant PR data for the OpenShift Origin project we whish to analyze along with the rest of the related CI data in this project. We also outlined what is contained in each record and provided a quick demonstration of how to convert the mixed data types into numerical values for statistical analysis and eventually machine learning. \n",
    "\n",
    "We will continue to explore the provided data and perform additional feature engineering in a forthcoming notebook."
   ]
  }
 ],
 "metadata": {
  "kernelspec": {
   "display_name": "Python 3",
   "language": "python",
   "name": "python3"
  },
  "language_info": {
   "codemirror_mode": {
    "name": "ipython",
    "version": 3
   },
   "file_extension": ".py",
   "mimetype": "text/x-python",
   "name": "python",
   "nbconvert_exporter": "python",
   "pygments_lexer": "ipython3",
   "version": "3.8.3"
  }
 },
 "nbformat": 4,
 "nbformat_minor": 5
}
